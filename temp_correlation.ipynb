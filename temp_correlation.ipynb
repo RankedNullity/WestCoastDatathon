{
 "cells": [
  {
   "cell_type": "code",
   "execution_count": 30,
   "metadata": {},
   "outputs": [],
   "source": [
    "import pandas as pd\n",
    "\n",
    "df = pd.read_csv(\"data/nyc_bikeshare.csv\")\n",
    "df = df.sample(n=1_000_000)"
   ]
  },
  {
   "cell_type": "code",
   "execution_count": 33,
   "metadata": {},
   "outputs": [],
   "source": [
    "df.to_csv(\"data/nyc_sampled.csv\")"
   ]
  },
  {
   "cell_type": "code",
   "execution_count": 3,
   "metadata": {},
   "outputs": [],
   "source": [
    "nyc = df"
   ]
  },
  {
   "cell_type": "code",
   "execution_count": 4,
   "metadata": {},
   "outputs": [
    {
     "name": "stdout",
     "output_type": "stream",
     "text": [
      "processed 100000 rows\n",
      "processed 200000 rows\n",
      "processed 300000 rows\n",
      "processed 400000 rows\n",
      "processed 500000 rows\n",
      "processed 600000 rows\n",
      "processed 700000 rows\n",
      "processed 800000 rows\n",
      "processed 900000 rows\n",
      "processed 1000000 rows\n"
     ]
    }
   ],
   "source": [
    "from collections import defaultdict\n",
    "\n",
    "rows = 0\n",
    "times = defaultdict(list)\n",
    "for entry in nyc[\"starttime\"]:\n",
    "    parts = entry.split(\" \")\n",
    "    times[\"date\"].append(parts[0])\n",
    "    date = parts[0].split(\"-\")\n",
    "    times[\"year\"].append(date[0])\n",
    "    times[\"month\"].append(date[1])\n",
    "    times[\"day\"].append(date[2])\n",
    "    times[\"time_of_day\"].append(parts[1][:2])\n",
    "    rows += 1\n",
    "    if (rows % 100000 == 0):\n",
    "        print(f\"processed {rows} rows\")\n",
    "times_df = pd.DataFrame(times)"
   ]
  },
  {
   "cell_type": "code",
   "execution_count": 5,
   "metadata": {},
   "outputs": [],
   "source": [
    "nyc = nyc.join(times_df)"
   ]
  },
  {
   "cell_type": "code",
   "execution_count": 7,
   "metadata": {},
   "outputs": [],
   "source": [
    "w = pd.read_csv(\"data/nyc_daily_weather.csv\")\n",
    "\n",
    "from datetime import datetime\n",
    "def date_to_days(date):\n",
    "    date = datetime.strptime(date, \"%m/%d/%y %H:%M\")\n",
    "    return date.strftime(\"%m-%d-%y\")\n",
    "  #return \"-\".join(date.split(\" \")[0].split(\"/\"))\n",
    "\n",
    "w[\"date\"] = w[\"DATE\"].apply(date_to_days)"
   ]
  },
  {
   "cell_type": "code",
   "execution_count": 8,
   "metadata": {},
   "outputs": [
    {
     "data": {
      "text/html": [
       "<div>\n",
       "<style scoped>\n",
       "    .dataframe tbody tr th:only-of-type {\n",
       "        vertical-align: middle;\n",
       "    }\n",
       "\n",
       "    .dataframe tbody tr th {\n",
       "        vertical-align: top;\n",
       "    }\n",
       "\n",
       "    .dataframe thead th {\n",
       "        text-align: right;\n",
       "    }\n",
       "</style>\n",
       "<table border=\"1\" class=\"dataframe\">\n",
       "  <thead>\n",
       "    <tr style=\"text-align: right;\">\n",
       "      <th></th>\n",
       "      <th>DATE</th>\n",
       "      <th>DailyAverageDryBulbTemperature</th>\n",
       "      <th>DailySnowDepth</th>\n",
       "      <th>DailySustainedWindSpeed</th>\n",
       "      <th>date</th>\n",
       "    </tr>\n",
       "  </thead>\n",
       "  <tbody>\n",
       "    <tr>\n",
       "      <th>0</th>\n",
       "      <td>1/1/13 23:59</td>\n",
       "      <td>33.0</td>\n",
       "      <td>0.0</td>\n",
       "      <td>15.0</td>\n",
       "      <td>01-01-13</td>\n",
       "    </tr>\n",
       "    <tr>\n",
       "      <th>1</th>\n",
       "      <td>1/2/13 23:59</td>\n",
       "      <td>28.0</td>\n",
       "      <td>0.0</td>\n",
       "      <td>15.0</td>\n",
       "      <td>01-02-13</td>\n",
       "    </tr>\n",
       "    <tr>\n",
       "      <th>2</th>\n",
       "      <td>1/3/13 23:59</td>\n",
       "      <td>28.0</td>\n",
       "      <td>0.0</td>\n",
       "      <td>13.0</td>\n",
       "      <td>01-03-13</td>\n",
       "    </tr>\n",
       "    <tr>\n",
       "      <th>3</th>\n",
       "      <td>1/4/13 23:59</td>\n",
       "      <td>34.0</td>\n",
       "      <td>0.0</td>\n",
       "      <td>18.0</td>\n",
       "      <td>01-04-13</td>\n",
       "    </tr>\n",
       "    <tr>\n",
       "      <th>4</th>\n",
       "      <td>1/5/13 23:59</td>\n",
       "      <td>37.0</td>\n",
       "      <td>0.0</td>\n",
       "      <td>17.0</td>\n",
       "      <td>01-05-13</td>\n",
       "    </tr>\n",
       "  </tbody>\n",
       "</table>\n",
       "</div>"
      ],
      "text/plain": [
       "           DATE  DailyAverageDryBulbTemperature  DailySnowDepth  \\\n",
       "0  1/1/13 23:59                            33.0             0.0   \n",
       "1  1/2/13 23:59                            28.0             0.0   \n",
       "2  1/3/13 23:59                            28.0             0.0   \n",
       "3  1/4/13 23:59                            34.0             0.0   \n",
       "4  1/5/13 23:59                            37.0             0.0   \n",
       "\n",
       "   DailySustainedWindSpeed      date  \n",
       "0                     15.0  01-01-13  \n",
       "1                     15.0  01-02-13  \n",
       "2                     13.0  01-03-13  \n",
       "3                     18.0  01-04-13  \n",
       "4                     17.0  01-05-13  "
      ]
     },
     "execution_count": 8,
     "metadata": {},
     "output_type": "execute_result"
    }
   ],
   "source": [
    "w.head()"
   ]
  },
  {
   "cell_type": "code",
   "execution_count": 9,
   "metadata": {},
   "outputs": [
    {
     "data": {
      "text/html": [
       "<div>\n",
       "<style scoped>\n",
       "    .dataframe tbody tr th:only-of-type {\n",
       "        vertical-align: middle;\n",
       "    }\n",
       "\n",
       "    .dataframe tbody tr th {\n",
       "        vertical-align: top;\n",
       "    }\n",
       "\n",
       "    .dataframe thead th {\n",
       "        text-align: right;\n",
       "    }\n",
       "</style>\n",
       "<table border=\"1\" class=\"dataframe\">\n",
       "  <thead>\n",
       "    <tr style=\"text-align: right;\">\n",
       "      <th></th>\n",
       "      <th>tripduration</th>\n",
       "      <th>starttime</th>\n",
       "      <th>stoptime</th>\n",
       "      <th>start_station_id</th>\n",
       "      <th>end_station_id</th>\n",
       "      <th>bikeid</th>\n",
       "      <th>usertype</th>\n",
       "      <th>birthyear</th>\n",
       "      <th>gender</th>\n",
       "      <th>date</th>\n",
       "      <th>year</th>\n",
       "      <th>month</th>\n",
       "      <th>day</th>\n",
       "      <th>time_of_day</th>\n",
       "    </tr>\n",
       "  </thead>\n",
       "  <tbody>\n",
       "    <tr>\n",
       "      <th>9394713</th>\n",
       "      <td>7258</td>\n",
       "      <td>08-04-16 11:02:50</td>\n",
       "      <td>08-04-16 13:03:49</td>\n",
       "      <td>315.0</td>\n",
       "      <td>508.0</td>\n",
       "      <td>16919</td>\n",
       "      <td>0.0</td>\n",
       "      <td>NaN</td>\n",
       "      <td>0</td>\n",
       "      <td>NaN</td>\n",
       "      <td>NaN</td>\n",
       "      <td>NaN</td>\n",
       "      <td>NaN</td>\n",
       "      <td>NaN</td>\n",
       "    </tr>\n",
       "    <tr>\n",
       "      <th>20994788</th>\n",
       "      <td>1081</td>\n",
       "      <td>11-14-18 21:19:04</td>\n",
       "      <td>11-14-18 21:37:05</td>\n",
       "      <td>523.0</td>\n",
       "      <td>3458.0</td>\n",
       "      <td>32151</td>\n",
       "      <td>0.0</td>\n",
       "      <td>1968.0</td>\n",
       "      <td>2</td>\n",
       "      <td>NaN</td>\n",
       "      <td>NaN</td>\n",
       "      <td>NaN</td>\n",
       "      <td>NaN</td>\n",
       "      <td>NaN</td>\n",
       "    </tr>\n",
       "    <tr>\n",
       "      <th>3495516</th>\n",
       "      <td>778</td>\n",
       "      <td>09-21-14 19:17:15</td>\n",
       "      <td>09-21-14 19:30:13</td>\n",
       "      <td>496.0</td>\n",
       "      <td>293.0</td>\n",
       "      <td>15869</td>\n",
       "      <td>0.0</td>\n",
       "      <td>NaN</td>\n",
       "      <td>0</td>\n",
       "      <td>NaN</td>\n",
       "      <td>NaN</td>\n",
       "      <td>NaN</td>\n",
       "      <td>NaN</td>\n",
       "      <td>NaN</td>\n",
       "    </tr>\n",
       "    <tr>\n",
       "      <th>23087655</th>\n",
       "      <td>649</td>\n",
       "      <td>05-09-19 06:50:05</td>\n",
       "      <td>05-09-19 07:00:54</td>\n",
       "      <td>3350.0</td>\n",
       "      <td>3510.0</td>\n",
       "      <td>35592</td>\n",
       "      <td>1.0</td>\n",
       "      <td>1977.0</td>\n",
       "      <td>1</td>\n",
       "      <td>NaN</td>\n",
       "      <td>NaN</td>\n",
       "      <td>NaN</td>\n",
       "      <td>NaN</td>\n",
       "      <td>NaN</td>\n",
       "    </tr>\n",
       "    <tr>\n",
       "      <th>14663157</th>\n",
       "      <td>571</td>\n",
       "      <td>09-12-17 07:43:09</td>\n",
       "      <td>09-12-17 07:52:40</td>\n",
       "      <td>492.0</td>\n",
       "      <td>3235.0</td>\n",
       "      <td>28251</td>\n",
       "      <td>1.0</td>\n",
       "      <td>1981.0</td>\n",
       "      <td>1</td>\n",
       "      <td>NaN</td>\n",
       "      <td>NaN</td>\n",
       "      <td>NaN</td>\n",
       "      <td>NaN</td>\n",
       "      <td>NaN</td>\n",
       "    </tr>\n",
       "  </tbody>\n",
       "</table>\n",
       "</div>"
      ],
      "text/plain": [
       "          tripduration          starttime           stoptime  \\\n",
       "9394713           7258  08-04-16 11:02:50  08-04-16 13:03:49   \n",
       "20994788          1081  11-14-18 21:19:04  11-14-18 21:37:05   \n",
       "3495516            778  09-21-14 19:17:15  09-21-14 19:30:13   \n",
       "23087655           649  05-09-19 06:50:05  05-09-19 07:00:54   \n",
       "14663157           571  09-12-17 07:43:09  09-12-17 07:52:40   \n",
       "\n",
       "          start_station_id  end_station_id  bikeid  usertype  birthyear  \\\n",
       "9394713              315.0           508.0   16919       0.0        NaN   \n",
       "20994788             523.0          3458.0   32151       0.0     1968.0   \n",
       "3495516              496.0           293.0   15869       0.0        NaN   \n",
       "23087655            3350.0          3510.0   35592       1.0     1977.0   \n",
       "14663157             492.0          3235.0   28251       1.0     1981.0   \n",
       "\n",
       "          gender date year month  day time_of_day  \n",
       "9394713        0  NaN  NaN   NaN  NaN         NaN  \n",
       "20994788       2  NaN  NaN   NaN  NaN         NaN  \n",
       "3495516        0  NaN  NaN   NaN  NaN         NaN  \n",
       "23087655       1  NaN  NaN   NaN  NaN         NaN  \n",
       "14663157       1  NaN  NaN   NaN  NaN         NaN  "
      ]
     },
     "execution_count": 9,
     "metadata": {},
     "output_type": "execute_result"
    }
   ],
   "source": [
    "nyc.head()"
   ]
  },
  {
   "cell_type": "code",
   "execution_count": 10,
   "metadata": {},
   "outputs": [],
   "source": [
    "trips_per_day = nyc.groupby(\"date\")[\"tripduration\"].count()"
   ]
  },
  {
   "cell_type": "code",
   "execution_count": 11,
   "metadata": {},
   "outputs": [],
   "source": [
    "trips_per_day = pd.DataFrame(trips_per_day)"
   ]
  },
  {
   "cell_type": "code",
   "execution_count": 12,
   "metadata": {},
   "outputs": [],
   "source": [
    "w = w.join(trips_per_day, on=\"date\")"
   ]
  },
  {
   "cell_type": "code",
   "execution_count": 13,
   "metadata": {},
   "outputs": [
    {
     "data": {
      "text/html": [
       "<div>\n",
       "<style scoped>\n",
       "    .dataframe tbody tr th:only-of-type {\n",
       "        vertical-align: middle;\n",
       "    }\n",
       "\n",
       "    .dataframe tbody tr th {\n",
       "        vertical-align: top;\n",
       "    }\n",
       "\n",
       "    .dataframe thead th {\n",
       "        text-align: right;\n",
       "    }\n",
       "</style>\n",
       "<table border=\"1\" class=\"dataframe\">\n",
       "  <thead>\n",
       "    <tr style=\"text-align: right;\">\n",
       "      <th></th>\n",
       "      <th>DATE</th>\n",
       "      <th>DailyAverageDryBulbTemperature</th>\n",
       "      <th>DailySnowDepth</th>\n",
       "      <th>DailySustainedWindSpeed</th>\n",
       "      <th>date</th>\n",
       "      <th>tripduration</th>\n",
       "    </tr>\n",
       "  </thead>\n",
       "  <tbody>\n",
       "    <tr>\n",
       "      <th>0</th>\n",
       "      <td>1/1/13 23:59</td>\n",
       "      <td>33.0</td>\n",
       "      <td>0.0</td>\n",
       "      <td>15.0</td>\n",
       "      <td>01-01-13</td>\n",
       "      <td>NaN</td>\n",
       "    </tr>\n",
       "    <tr>\n",
       "      <th>1</th>\n",
       "      <td>1/2/13 23:59</td>\n",
       "      <td>28.0</td>\n",
       "      <td>0.0</td>\n",
       "      <td>15.0</td>\n",
       "      <td>01-02-13</td>\n",
       "      <td>NaN</td>\n",
       "    </tr>\n",
       "    <tr>\n",
       "      <th>2</th>\n",
       "      <td>1/3/13 23:59</td>\n",
       "      <td>28.0</td>\n",
       "      <td>0.0</td>\n",
       "      <td>13.0</td>\n",
       "      <td>01-03-13</td>\n",
       "      <td>NaN</td>\n",
       "    </tr>\n",
       "    <tr>\n",
       "      <th>3</th>\n",
       "      <td>1/4/13 23:59</td>\n",
       "      <td>34.0</td>\n",
       "      <td>0.0</td>\n",
       "      <td>18.0</td>\n",
       "      <td>01-04-13</td>\n",
       "      <td>NaN</td>\n",
       "    </tr>\n",
       "    <tr>\n",
       "      <th>4</th>\n",
       "      <td>1/5/13 23:59</td>\n",
       "      <td>37.0</td>\n",
       "      <td>0.0</td>\n",
       "      <td>17.0</td>\n",
       "      <td>01-05-13</td>\n",
       "      <td>NaN</td>\n",
       "    </tr>\n",
       "  </tbody>\n",
       "</table>\n",
       "</div>"
      ],
      "text/plain": [
       "           DATE  DailyAverageDryBulbTemperature  DailySnowDepth  \\\n",
       "0  1/1/13 23:59                            33.0             0.0   \n",
       "1  1/2/13 23:59                            28.0             0.0   \n",
       "2  1/3/13 23:59                            28.0             0.0   \n",
       "3  1/4/13 23:59                            34.0             0.0   \n",
       "4  1/5/13 23:59                            37.0             0.0   \n",
       "\n",
       "   DailySustainedWindSpeed      date  tripduration  \n",
       "0                     15.0  01-01-13           NaN  \n",
       "1                     15.0  01-02-13           NaN  \n",
       "2                     13.0  01-03-13           NaN  \n",
       "3                     18.0  01-04-13           NaN  \n",
       "4                     17.0  01-05-13           NaN  "
      ]
     },
     "execution_count": 13,
     "metadata": {},
     "output_type": "execute_result"
    }
   ],
   "source": [
    "w.head()"
   ]
  },
  {
   "cell_type": "code",
   "execution_count": 14,
   "metadata": {},
   "outputs": [],
   "source": [
    "w = w.dropna()"
   ]
  },
  {
   "cell_type": "code",
   "execution_count": 15,
   "metadata": {},
   "outputs": [
    {
     "data": {
      "text/html": [
       "<div>\n",
       "<style scoped>\n",
       "    .dataframe tbody tr th:only-of-type {\n",
       "        vertical-align: middle;\n",
       "    }\n",
       "\n",
       "    .dataframe tbody tr th {\n",
       "        vertical-align: top;\n",
       "    }\n",
       "\n",
       "    .dataframe thead th {\n",
       "        text-align: right;\n",
       "    }\n",
       "</style>\n",
       "<table border=\"1\" class=\"dataframe\">\n",
       "  <thead>\n",
       "    <tr style=\"text-align: right;\">\n",
       "      <th></th>\n",
       "      <th>DATE</th>\n",
       "      <th>DailyAverageDryBulbTemperature</th>\n",
       "      <th>DailySnowDepth</th>\n",
       "      <th>DailySustainedWindSpeed</th>\n",
       "      <th>date</th>\n",
       "      <th>tripduration</th>\n",
       "    </tr>\n",
       "  </thead>\n",
       "  <tbody>\n",
       "    <tr>\n",
       "      <th>151</th>\n",
       "      <td>6/1/13 23:59</td>\n",
       "      <td>82.0</td>\n",
       "      <td>0.0</td>\n",
       "      <td>12.0</td>\n",
       "      <td>06-01-13</td>\n",
       "      <td>2.0</td>\n",
       "    </tr>\n",
       "    <tr>\n",
       "      <th>152</th>\n",
       "      <td>6/2/13 23:59</td>\n",
       "      <td>79.0</td>\n",
       "      <td>0.0</td>\n",
       "      <td>15.0</td>\n",
       "      <td>06-02-13</td>\n",
       "      <td>7.0</td>\n",
       "    </tr>\n",
       "    <tr>\n",
       "      <th>153</th>\n",
       "      <td>6/3/13 23:59</td>\n",
       "      <td>72.0</td>\n",
       "      <td>0.0</td>\n",
       "      <td>12.0</td>\n",
       "      <td>06-03-13</td>\n",
       "      <td>2.0</td>\n",
       "    </tr>\n",
       "    <tr>\n",
       "      <th>154</th>\n",
       "      <td>6/4/13 23:59</td>\n",
       "      <td>66.0</td>\n",
       "      <td>0.0</td>\n",
       "      <td>13.0</td>\n",
       "      <td>06-04-13</td>\n",
       "      <td>2.0</td>\n",
       "    </tr>\n",
       "    <tr>\n",
       "      <th>155</th>\n",
       "      <td>6/5/13 23:59</td>\n",
       "      <td>66.0</td>\n",
       "      <td>0.0</td>\n",
       "      <td>10.0</td>\n",
       "      <td>06-05-13</td>\n",
       "      <td>10.0</td>\n",
       "    </tr>\n",
       "  </tbody>\n",
       "</table>\n",
       "</div>"
      ],
      "text/plain": [
       "             DATE  DailyAverageDryBulbTemperature  DailySnowDepth  \\\n",
       "151  6/1/13 23:59                            82.0             0.0   \n",
       "152  6/2/13 23:59                            79.0             0.0   \n",
       "153  6/3/13 23:59                            72.0             0.0   \n",
       "154  6/4/13 23:59                            66.0             0.0   \n",
       "155  6/5/13 23:59                            66.0             0.0   \n",
       "\n",
       "     DailySustainedWindSpeed      date  tripduration  \n",
       "151                     12.0  06-01-13           2.0  \n",
       "152                     15.0  06-02-13           7.0  \n",
       "153                     12.0  06-03-13           2.0  \n",
       "154                     13.0  06-04-13           2.0  \n",
       "155                     10.0  06-05-13          10.0  "
      ]
     },
     "execution_count": 15,
     "metadata": {},
     "output_type": "execute_result"
    }
   ],
   "source": [
    "w.head()"
   ]
  },
  {
   "cell_type": "code",
   "execution_count": 16,
   "metadata": {},
   "outputs": [],
   "source": [
    "def daysFrom(date):\n",
    "    startDate = datetime.strptime('6/1/2013', \"%m/%d/%Y\")\n",
    "    endDate = datetime.strptime(date, \"%m-%d-%y\")\n",
    "    return (endDate-startDate).days\n",
    "\n",
    "w[\"daysFrom\"] = w[\"date\"].apply(daysFrom)"
   ]
  },
  {
   "cell_type": "code",
   "execution_count": 18,
   "metadata": {},
   "outputs": [
    {
     "data": {
      "text/plain": [
       "array(['DATE', 'DailyAverageDryBulbTemperature', 'DailySnowDepth',\n",
       "       'DailySustainedWindSpeed', 'date', 'tripduration', 'daysFrom'],\n",
       "      dtype=object)"
      ]
     },
     "execution_count": 18,
     "metadata": {},
     "output_type": "execute_result"
    }
   ],
   "source": [
    "w.columns.values"
   ]
  },
  {
   "cell_type": "code",
   "execution_count": 27,
   "metadata": {},
   "outputs": [
    {
     "data": {
      "image/png": "[encoded data removed]",
      "text/plain": [
       "<Figure size 432x288 with 1 Axes>"
      ]
     },
     "metadata": {
      "needs_background": "light"
     },
     "output_type": "display_data"
    }
   ],
   "source": [
    "import seaborn as sns\n",
    "\n",
    "fig = sns.regplot(w[\"DailyAverageDryBulbTemperature\"], w[\"tripduration\"], scatter_kws={\"color\": \"black\"}, line_kws={\"color\": \"red\"})\n",
    "fig.set_title(\"Bike Usage vs Temperature\")\n",
    "fig.set_ylabel(\"Trip Count\")\n",
    "fig.set_xlabel(\"Average Temperature\")\n",
    "out = fig.get_figure()\n",
    "out.savefig(\"temp_usage.png\")"
   ]
  },
  {
   "cell_type": "code",
   "execution_count": 29,
   "metadata": {},
   "outputs": [
    {
     "data": {
      "text/plain": [
       "array([[1.        , 0.51716683],\n",
       "       [0.51716683, 1.        ]])"
      ]
     },
     "execution_count": 29,
     "metadata": {},
     "output_type": "execute_result"
    }
   ],
   "source": [
    "import numpy as np\n",
    "\n",
    "np.corrcoef(w[\"DailyAverageDryBulbTemperature\"], w[\"tripduration\"])"
   ]
  },
  {
   "cell_type": "code",
   "execution_count": null,
   "metadata": {},
   "outputs": [],
   "source": [
    "df.corr"
   ]
  },
  {
   "cell_type": "code",
   "execution_count": null,
   "metadata": {},
   "outputs": [],
   "source": []
  }
 ],
 "metadata": {
  "kernelspec": {
   "display_name": "Python 3",
   "language": "python",
   "name": "python3"
  },
  "language_info": {
   "codemirror_mode": {
    "name": "ipython",
    "version": 3
   },
   "file_extension": ".py",
   "mimetype": "text/x-python",
   "name": "python",
   "nbconvert_exporter": "python",
   "pygments_lexer": "ipython3",
   "version": "3.7.3"
  }
 },
 "nbformat": 4,
 "nbformat_minor": 4
}
