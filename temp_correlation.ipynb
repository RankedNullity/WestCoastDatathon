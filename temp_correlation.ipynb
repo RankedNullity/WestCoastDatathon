{
 "cells": [
  {
   "cell_type": "code",
   "execution_count": 7,
   "metadata": {},
   "outputs": [],
   "source": [
    "import pandas as pd\n",
    "\n",
    "# df = pd.read_csv(\"data/nyc_bikeshare.csv\")\n",
    "# df = df.sample(n=1_000_000)"
   ]
  },
  {
   "cell_type": "code",
   "execution_count": 8,
   "metadata": {},
   "outputs": [],
   "source": [
    "df = pd.read_csv(\"data/nyc_sampled.csv\")"
   ]
  },
  {
   "cell_type": "code",
   "execution_count": 9,
   "metadata": {},
   "outputs": [],
   "source": [
    "nyc = df"
   ]
  },
  {
   "cell_type": "code",
   "execution_count": 10,
   "metadata": {},
   "outputs": [
    {
     "name": "stdout",
     "output_type": "stream",
     "text": [
      "processed 100000 rows\n",
      "processed 200000 rows\n",
      "processed 300000 rows\n",
      "processed 400000 rows\n",
      "processed 500000 rows\n",
      "processed 600000 rows\n",
      "processed 700000 rows\n",
      "processed 800000 rows\n",
      "processed 900000 rows\n",
      "processed 1000000 rows\n"
     ]
    }
   ],
   "source": [
    "from collections import defaultdict\n",
    "\n",
    "rows = 0\n",
    "times = defaultdict(list)\n",
    "for entry in nyc[\"starttime\"]:\n",
    "    parts = entry.split(\" \")\n",
    "    times[\"date\"].append(parts[0])\n",
    "    date = parts[0].split(\"-\")\n",
    "    times[\"year\"].append(date[0])\n",
    "    times[\"month\"].append(date[1])\n",
    "    times[\"day\"].append(date[2])\n",
    "    times[\"time_of_day\"].append(parts[1][:2])\n",
    "    rows += 1\n",
    "    if (rows % 100000 == 0):\n",
    "        print(f\"processed {rows} rows\")\n",
    "times_df = pd.DataFrame(times)"
   ]
  },
  {
   "cell_type": "code",
   "execution_count": 11,
   "metadata": {},
   "outputs": [],
   "source": [
    "nyc = nyc.join(times_df)"
   ]
  },
  {
   "cell_type": "code",
   "execution_count": 12,
   "metadata": {},
   "outputs": [],
   "source": [
    "w = pd.read_csv(\"data/nyc_daily_weather.csv\")\n",
    "\n",
    "from datetime import datetime\n",
    "def date_to_days(date):\n",
    "    date = datetime.strptime(date, \"%m/%d/%y %H:%M\")\n",
    "    return date.strftime(\"%m-%d-%y\")\n",
    "  #return \"-\".join(date.split(\" \")[0].split(\"/\"))\n",
    "\n",
    "w[\"date\"] = w[\"DATE\"].apply(date_to_days)"
   ]
  },
  {
   "cell_type": "code",
   "execution_count": 13,
   "metadata": {},
   "outputs": [
    {
     "data": {
      "text/html": [
       "<div>\n",
       "<style scoped>\n",
       "    .dataframe tbody tr th:only-of-type {\n",
       "        vertical-align: middle;\n",
       "    }\n",
       "\n",
       "    .dataframe tbody tr th {\n",
       "        vertical-align: top;\n",
       "    }\n",
       "\n",
       "    .dataframe thead th {\n",
       "        text-align: right;\n",
       "    }\n",
       "</style>\n",
       "<table border=\"1\" class=\"dataframe\">\n",
       "  <thead>\n",
       "    <tr style=\"text-align: right;\">\n",
       "      <th></th>\n",
       "      <th>DATE</th>\n",
       "      <th>DailyAverageDryBulbTemperature</th>\n",
       "      <th>DailySnowDepth</th>\n",
       "      <th>DailySustainedWindSpeed</th>\n",
       "      <th>date</th>\n",
       "    </tr>\n",
       "  </thead>\n",
       "  <tbody>\n",
       "    <tr>\n",
       "      <th>0</th>\n",
       "      <td>1/1/13 23:59</td>\n",
       "      <td>33.0</td>\n",
       "      <td>0.0</td>\n",
       "      <td>15.0</td>\n",
       "      <td>01-01-13</td>\n",
       "    </tr>\n",
       "    <tr>\n",
       "      <th>1</th>\n",
       "      <td>1/2/13 23:59</td>\n",
       "      <td>28.0</td>\n",
       "      <td>0.0</td>\n",
       "      <td>15.0</td>\n",
       "      <td>01-02-13</td>\n",
       "    </tr>\n",
       "    <tr>\n",
       "      <th>2</th>\n",
       "      <td>1/3/13 23:59</td>\n",
       "      <td>28.0</td>\n",
       "      <td>0.0</td>\n",
       "      <td>13.0</td>\n",
       "      <td>01-03-13</td>\n",
       "    </tr>\n",
       "    <tr>\n",
       "      <th>3</th>\n",
       "      <td>1/4/13 23:59</td>\n",
       "      <td>34.0</td>\n",
       "      <td>0.0</td>\n",
       "      <td>18.0</td>\n",
       "      <td>01-04-13</td>\n",
       "    </tr>\n",
       "    <tr>\n",
       "      <th>4</th>\n",
       "      <td>1/5/13 23:59</td>\n",
       "      <td>37.0</td>\n",
       "      <td>0.0</td>\n",
       "      <td>17.0</td>\n",
       "      <td>01-05-13</td>\n",
       "    </tr>\n",
       "  </tbody>\n",
       "</table>\n",
       "</div>"
      ],
      "text/plain": [
       "           DATE  DailyAverageDryBulbTemperature  DailySnowDepth  \\\n",
       "0  1/1/13 23:59                            33.0             0.0   \n",
       "1  1/2/13 23:59                            28.0             0.0   \n",
       "2  1/3/13 23:59                            28.0             0.0   \n",
       "3  1/4/13 23:59                            34.0             0.0   \n",
       "4  1/5/13 23:59                            37.0             0.0   \n",
       "\n",
       "   DailySustainedWindSpeed      date  \n",
       "0                     15.0  01-01-13  \n",
       "1                     15.0  01-02-13  \n",
       "2                     13.0  01-03-13  \n",
       "3                     18.0  01-04-13  \n",
       "4                     17.0  01-05-13  "
      ]
     },
     "execution_count": 13,
     "metadata": {},
     "output_type": "execute_result"
    }
   ],
   "source": [
    "w.head()"
   ]
  },
  {
   "cell_type": "code",
   "execution_count": 14,
   "metadata": {},
   "outputs": [
    {
     "data": {
      "text/html": [
       "<div>\n",
       "<style scoped>\n",
       "    .dataframe tbody tr th:only-of-type {\n",
       "        vertical-align: middle;\n",
       "    }\n",
       "\n",
       "    .dataframe tbody tr th {\n",
       "        vertical-align: top;\n",
       "    }\n",
       "\n",
       "    .dataframe thead th {\n",
       "        text-align: right;\n",
       "    }\n",
       "</style>\n",
       "<table border=\"1\" class=\"dataframe\">\n",
       "  <thead>\n",
       "    <tr style=\"text-align: right;\">\n",
       "      <th></th>\n",
       "      <th>Unnamed: 0</th>\n",
       "      <th>tripduration</th>\n",
       "      <th>starttime</th>\n",
       "      <th>stoptime</th>\n",
       "      <th>start_station_id</th>\n",
       "      <th>end_station_id</th>\n",
       "      <th>bikeid</th>\n",
       "      <th>usertype</th>\n",
       "      <th>birthyear</th>\n",
       "      <th>gender</th>\n",
       "      <th>date</th>\n",
       "      <th>year</th>\n",
       "      <th>month</th>\n",
       "      <th>day</th>\n",
       "      <th>time_of_day</th>\n",
       "    </tr>\n",
       "  </thead>\n",
       "  <tbody>\n",
       "    <tr>\n",
       "      <th>0</th>\n",
       "      <td>11835048</td>\n",
       "      <td>1096</td>\n",
       "      <td>02-27-17 15:46:12</td>\n",
       "      <td>02-27-17 16:04:28</td>\n",
       "      <td>3126.0</td>\n",
       "      <td>3131.0</td>\n",
       "      <td>27693</td>\n",
       "      <td>1.0</td>\n",
       "      <td>1994.0</td>\n",
       "      <td>1</td>\n",
       "      <td>02-27-17</td>\n",
       "      <td>02</td>\n",
       "      <td>27</td>\n",
       "      <td>17</td>\n",
       "      <td>15</td>\n",
       "    </tr>\n",
       "    <tr>\n",
       "      <th>1</th>\n",
       "      <td>21283052</td>\n",
       "      <td>943</td>\n",
       "      <td>12-11-18 09:29:24</td>\n",
       "      <td>12-11-18 09:45:07</td>\n",
       "      <td>3141.0</td>\n",
       "      <td>3431.0</td>\n",
       "      <td>35240</td>\n",
       "      <td>1.0</td>\n",
       "      <td>1964.0</td>\n",
       "      <td>1</td>\n",
       "      <td>12-11-18</td>\n",
       "      <td>12</td>\n",
       "      <td>11</td>\n",
       "      <td>18</td>\n",
       "      <td>09</td>\n",
       "    </tr>\n",
       "    <tr>\n",
       "      <th>2</th>\n",
       "      <td>782245</td>\n",
       "      <td>665</td>\n",
       "      <td>09-06-13 17:02:06</td>\n",
       "      <td>09-06-13 17:13:11</td>\n",
       "      <td>545.0</td>\n",
       "      <td>517.0</td>\n",
       "      <td>17458</td>\n",
       "      <td>1.0</td>\n",
       "      <td>1978.0</td>\n",
       "      <td>1</td>\n",
       "      <td>09-06-13</td>\n",
       "      <td>09</td>\n",
       "      <td>06</td>\n",
       "      <td>13</td>\n",
       "      <td>17</td>\n",
       "    </tr>\n",
       "    <tr>\n",
       "      <th>3</th>\n",
       "      <td>8838053</td>\n",
       "      <td>332</td>\n",
       "      <td>06-25-16 18:39:25</td>\n",
       "      <td>06-25-16 18:44:58</td>\n",
       "      <td>3162.0</td>\n",
       "      <td>3164.0</td>\n",
       "      <td>20529</td>\n",
       "      <td>1.0</td>\n",
       "      <td>1977.0</td>\n",
       "      <td>1</td>\n",
       "      <td>06-25-16</td>\n",
       "      <td>06</td>\n",
       "      <td>25</td>\n",
       "      <td>16</td>\n",
       "      <td>18</td>\n",
       "    </tr>\n",
       "    <tr>\n",
       "      <th>4</th>\n",
       "      <td>18541133</td>\n",
       "      <td>911</td>\n",
       "      <td>06-30-18 08:39:54</td>\n",
       "      <td>06-30-18 08:55:06</td>\n",
       "      <td>3610.0</td>\n",
       "      <td>3119.0</td>\n",
       "      <td>18070</td>\n",
       "      <td>1.0</td>\n",
       "      <td>1983.0</td>\n",
       "      <td>1</td>\n",
       "      <td>06-30-18</td>\n",
       "      <td>06</td>\n",
       "      <td>30</td>\n",
       "      <td>18</td>\n",
       "      <td>08</td>\n",
       "    </tr>\n",
       "  </tbody>\n",
       "</table>\n",
       "</div>"
      ],
      "text/plain": [
       "   Unnamed: 0  tripduration          starttime           stoptime  \\\n",
       "0    11835048          1096  02-27-17 15:46:12  02-27-17 16:04:28   \n",
       "1    21283052           943  12-11-18 09:29:24  12-11-18 09:45:07   \n",
       "2      782245           665  09-06-13 17:02:06  09-06-13 17:13:11   \n",
       "3     8838053           332  06-25-16 18:39:25  06-25-16 18:44:58   \n",
       "4    18541133           911  06-30-18 08:39:54  06-30-18 08:55:06   \n",
       "\n",
       "   start_station_id  end_station_id  bikeid  usertype  birthyear  gender  \\\n",
       "0            3126.0          3131.0   27693       1.0     1994.0       1   \n",
       "1            3141.0          3431.0   35240       1.0     1964.0       1   \n",
       "2             545.0           517.0   17458       1.0     1978.0       1   \n",
       "3            3162.0          3164.0   20529       1.0     1977.0       1   \n",
       "4            3610.0          3119.0   18070       1.0     1983.0       1   \n",
       "\n",
       "       date year month day time_of_day  \n",
       "0  02-27-17   02    27  17          15  \n",
       "1  12-11-18   12    11  18          09  \n",
       "2  09-06-13   09    06  13          17  \n",
       "3  06-25-16   06    25  16          18  \n",
       "4  06-30-18   06    30  18          08  "
      ]
     },
     "execution_count": 14,
     "metadata": {},
     "output_type": "execute_result"
    }
   ],
   "source": [
    "nyc.head()"
   ]
  },
  {
   "cell_type": "code",
   "execution_count": 15,
   "metadata": {},
   "outputs": [],
   "source": [
    "trips_per_day = nyc.groupby(\"date\")[\"tripduration\"].count()"
   ]
  },
  {
   "cell_type": "code",
   "execution_count": 16,
   "metadata": {},
   "outputs": [],
   "source": [
    "trips_per_day = pd.DataFrame(trips_per_day)"
   ]
  },
  {
   "cell_type": "code",
   "execution_count": 17,
   "metadata": {},
   "outputs": [],
   "source": [
    "w = w.join(trips_per_day, on=\"date\")"
   ]
  },
  {
   "cell_type": "code",
   "execution_count": 18,
   "metadata": {},
   "outputs": [
    {
     "data": {
      "text/html": [
       "<div>\n",
       "<style scoped>\n",
       "    .dataframe tbody tr th:only-of-type {\n",
       "        vertical-align: middle;\n",
       "    }\n",
       "\n",
       "    .dataframe tbody tr th {\n",
       "        vertical-align: top;\n",
       "    }\n",
       "\n",
       "    .dataframe thead th {\n",
       "        text-align: right;\n",
       "    }\n",
       "</style>\n",
       "<table border=\"1\" class=\"dataframe\">\n",
       "  <thead>\n",
       "    <tr style=\"text-align: right;\">\n",
       "      <th></th>\n",
       "      <th>DATE</th>\n",
       "      <th>DailyAverageDryBulbTemperature</th>\n",
       "      <th>DailySnowDepth</th>\n",
       "      <th>DailySustainedWindSpeed</th>\n",
       "      <th>date</th>\n",
       "      <th>tripduration</th>\n",
       "    </tr>\n",
       "  </thead>\n",
       "  <tbody>\n",
       "    <tr>\n",
       "      <th>0</th>\n",
       "      <td>1/1/13 23:59</td>\n",
       "      <td>33.0</td>\n",
       "      <td>0.0</td>\n",
       "      <td>15.0</td>\n",
       "      <td>01-01-13</td>\n",
       "      <td>NaN</td>\n",
       "    </tr>\n",
       "    <tr>\n",
       "      <th>1</th>\n",
       "      <td>1/2/13 23:59</td>\n",
       "      <td>28.0</td>\n",
       "      <td>0.0</td>\n",
       "      <td>15.0</td>\n",
       "      <td>01-02-13</td>\n",
       "      <td>NaN</td>\n",
       "    </tr>\n",
       "    <tr>\n",
       "      <th>2</th>\n",
       "      <td>1/3/13 23:59</td>\n",
       "      <td>28.0</td>\n",
       "      <td>0.0</td>\n",
       "      <td>13.0</td>\n",
       "      <td>01-03-13</td>\n",
       "      <td>NaN</td>\n",
       "    </tr>\n",
       "    <tr>\n",
       "      <th>3</th>\n",
       "      <td>1/4/13 23:59</td>\n",
       "      <td>34.0</td>\n",
       "      <td>0.0</td>\n",
       "      <td>18.0</td>\n",
       "      <td>01-04-13</td>\n",
       "      <td>NaN</td>\n",
       "    </tr>\n",
       "    <tr>\n",
       "      <th>4</th>\n",
       "      <td>1/5/13 23:59</td>\n",
       "      <td>37.0</td>\n",
       "      <td>0.0</td>\n",
       "      <td>17.0</td>\n",
       "      <td>01-05-13</td>\n",
       "      <td>NaN</td>\n",
       "    </tr>\n",
       "  </tbody>\n",
       "</table>\n",
       "</div>"
      ],
      "text/plain": [
       "           DATE  DailyAverageDryBulbTemperature  DailySnowDepth  \\\n",
       "0  1/1/13 23:59                            33.0             0.0   \n",
       "1  1/2/13 23:59                            28.0             0.0   \n",
       "2  1/3/13 23:59                            28.0             0.0   \n",
       "3  1/4/13 23:59                            34.0             0.0   \n",
       "4  1/5/13 23:59                            37.0             0.0   \n",
       "\n",
       "   DailySustainedWindSpeed      date  tripduration  \n",
       "0                     15.0  01-01-13           NaN  \n",
       "1                     15.0  01-02-13           NaN  \n",
       "2                     13.0  01-03-13           NaN  \n",
       "3                     18.0  01-04-13           NaN  \n",
       "4                     17.0  01-05-13           NaN  "
      ]
     },
     "execution_count": 18,
     "metadata": {},
     "output_type": "execute_result"
    }
   ],
   "source": [
    "w.head()"
   ]
  },
  {
   "cell_type": "code",
   "execution_count": 19,
   "metadata": {},
   "outputs": [],
   "source": [
    "w = w.dropna()"
   ]
  },
  {
   "cell_type": "code",
   "execution_count": 20,
   "metadata": {},
   "outputs": [
    {
     "data": {
      "text/html": [
       "<div>\n",
       "<style scoped>\n",
       "    .dataframe tbody tr th:only-of-type {\n",
       "        vertical-align: middle;\n",
       "    }\n",
       "\n",
       "    .dataframe tbody tr th {\n",
       "        vertical-align: top;\n",
       "    }\n",
       "\n",
       "    .dataframe thead th {\n",
       "        text-align: right;\n",
       "    }\n",
       "</style>\n",
       "<table border=\"1\" class=\"dataframe\">\n",
       "  <thead>\n",
       "    <tr style=\"text-align: right;\">\n",
       "      <th></th>\n",
       "      <th>DATE</th>\n",
       "      <th>DailyAverageDryBulbTemperature</th>\n",
       "      <th>DailySnowDepth</th>\n",
       "      <th>DailySustainedWindSpeed</th>\n",
       "      <th>date</th>\n",
       "      <th>tripduration</th>\n",
       "    </tr>\n",
       "  </thead>\n",
       "  <tbody>\n",
       "    <tr>\n",
       "      <th>151</th>\n",
       "      <td>6/1/13 23:59</td>\n",
       "      <td>82.0</td>\n",
       "      <td>0.0</td>\n",
       "      <td>12.0</td>\n",
       "      <td>06-01-13</td>\n",
       "      <td>109.0</td>\n",
       "    </tr>\n",
       "    <tr>\n",
       "      <th>152</th>\n",
       "      <td>6/2/13 23:59</td>\n",
       "      <td>79.0</td>\n",
       "      <td>0.0</td>\n",
       "      <td>15.0</td>\n",
       "      <td>06-02-13</td>\n",
       "      <td>189.0</td>\n",
       "    </tr>\n",
       "    <tr>\n",
       "      <th>153</th>\n",
       "      <td>6/3/13 23:59</td>\n",
       "      <td>72.0</td>\n",
       "      <td>0.0</td>\n",
       "      <td>12.0</td>\n",
       "      <td>06-03-13</td>\n",
       "      <td>90.0</td>\n",
       "    </tr>\n",
       "    <tr>\n",
       "      <th>154</th>\n",
       "      <td>6/4/13 23:59</td>\n",
       "      <td>66.0</td>\n",
       "      <td>0.0</td>\n",
       "      <td>13.0</td>\n",
       "      <td>06-04-13</td>\n",
       "      <td>186.0</td>\n",
       "    </tr>\n",
       "    <tr>\n",
       "      <th>155</th>\n",
       "      <td>6/5/13 23:59</td>\n",
       "      <td>66.0</td>\n",
       "      <td>0.0</td>\n",
       "      <td>10.0</td>\n",
       "      <td>06-05-13</td>\n",
       "      <td>168.0</td>\n",
       "    </tr>\n",
       "  </tbody>\n",
       "</table>\n",
       "</div>"
      ],
      "text/plain": [
       "             DATE  DailyAverageDryBulbTemperature  DailySnowDepth  \\\n",
       "151  6/1/13 23:59                            82.0             0.0   \n",
       "152  6/2/13 23:59                            79.0             0.0   \n",
       "153  6/3/13 23:59                            72.0             0.0   \n",
       "154  6/4/13 23:59                            66.0             0.0   \n",
       "155  6/5/13 23:59                            66.0             0.0   \n",
       "\n",
       "     DailySustainedWindSpeed      date  tripduration  \n",
       "151                     12.0  06-01-13         109.0  \n",
       "152                     15.0  06-02-13         189.0  \n",
       "153                     12.0  06-03-13          90.0  \n",
       "154                     13.0  06-04-13         186.0  \n",
       "155                     10.0  06-05-13         168.0  "
      ]
     },
     "execution_count": 20,
     "metadata": {},
     "output_type": "execute_result"
    }
   ],
   "source": [
    "w.head()"
   ]
  },
  {
   "cell_type": "code",
   "execution_count": 21,
   "metadata": {},
   "outputs": [],
   "source": [
    "def daysFrom(date):\n",
    "    startDate = datetime.strptime('6/1/2013', \"%m/%d/%Y\")\n",
    "    endDate = datetime.strptime(date, \"%m-%d-%y\")\n",
    "    return (endDate-startDate).days\n",
    "\n",
    "w[\"daysFrom\"] = w[\"date\"].apply(daysFrom)"
   ]
  },
  {
   "cell_type": "code",
   "execution_count": 22,
   "metadata": {},
   "outputs": [
    {
     "data": {
      "text/plain": [
       "array(['DATE', 'DailyAverageDryBulbTemperature', 'DailySnowDepth',\n",
       "       'DailySustainedWindSpeed', 'date', 'tripduration', 'daysFrom'],\n",
       "      dtype=object)"
      ]
     },
     "execution_count": 22,
     "metadata": {},
     "output_type": "execute_result"
    }
   ],
   "source": [
    "w.columns.values"
   ]
  },
  {
   "cell_type": "code",
   "execution_count": 23,
   "metadata": {},
   "outputs": [],
   "source": [
    "import seaborn as sns\n",
    "\n",
    "fig = sns.regplot(w[\"DailyAverageDryBulbTemperature\"], w[\"tripduration\"], scatter_kws={\"color\": \"black\"}, line_kws={\"color\": \"red\"})\n",
    "fig.set_title(\"Bike Usage vs Temperature\")\n",
    "fig.set_ylabel(\"Trip Count\")\n",
    "fig.set_xlabel(\"Average Temperature\")\n",
    "out = fig.get_figure()\n",
    "out.savefig(\"temp_usage.png\")"
   ]
  },
  {
   "cell_type": "code",
   "execution_count": 44,
   "metadata": {},
   "outputs": [
    {
     "data": {
      "image/png": "[encoded data removed]",
      "text/plain": [
       "<Figure size 432x288 with 1 Axes>"
      ]
     },
     "metadata": {},
     "output_type": "display_data"
    }
   ],
   "source": [
    "import seaborn as sns\n",
    "sns.set()\n",
    "fig = sns.regplot(w[\"DailyAverageDryBulbTemperature\"], w[\"tripduration\"], scatter_kws={\"color\": \"black\"}, line_kws={\"color\": \"red\"})\n",
    "fig.set_title(\"Bike Usage vs Temperature\")\n",
    "fig.set_ylabel(\"Trip Count\")\n",
    "fig.set_xlabel(\"Average Temperature\")\n",
    "out = fig.get_figure()\n",
    "out.savefig(\"temp_usage.png\")"
   ]
  },
  {
   "cell_type": "code",
   "execution_count": 25,
   "metadata": {},
   "outputs": [
    {
     "data": {
      "text/plain": [
       "array(['DATE', 'DailyAverageDryBulbTemperature', 'DailySnowDepth',\n",
       "       'DailySustainedWindSpeed', 'date', 'tripduration', 'daysFrom'],\n",
       "      dtype=object)"
      ]
     },
     "execution_count": 25,
     "metadata": {},
     "output_type": "execute_result"
    }
   ],
   "source": [
    "w.columns.values"
   ]
  },
  {
   "cell_type": "code",
   "execution_count": 36,
   "metadata": {},
   "outputs": [
    {
     "data": {
      "image/png": "[encoded data removed]",
      "text/plain": [
       "<Figure size 432x288 with 1 Axes>"
      ]
     },
     "metadata": {
      "needs_background": "light"
     },
     "output_type": "display_data"
    }
   ],
   "source": [
    "fig = sns.boxplot(w[\"DailySnowDepth\"], w[\"tripduration\"])\n",
    "fig.set_title(\"Bike Usage vs DailySnowDepth\")\n",
    "fig.set_ylabel(\"Trip Count\")\n",
    "fig.set_xlabel(\"Snow Depth\")\n",
    "fig.set_ylim([0, 1200])\n",
    "out = fig.get_figure()\n",
    "out.savefig(\"snow_usage.png\")"
   ]
  },
  {
   "cell_type": "code",
   "execution_count": 37,
   "metadata": {},
   "outputs": [
    {
     "data": {
      "text/plain": [
       "Text(0.5, 0, 'Snow Depth')"
      ]
     },
     "execution_count": 37,
     "metadata": {},
     "output_type": "execute_result"
    },
    {
     "data": {
      "image/png": "[encoded data removed]",
      "text/plain": [
       "<Figure size 432x288 with 1 Axes>"
      ]
     },
     "metadata": {
      "needs_background": "light"
     },
     "output_type": "display_data"
    }
   ],
   "source": [
    "fig = sns.scatterplot(w[\"DailySustainedWindSpeed\"], w[\"tripduration\"])\n",
    "fig.set_title(\"Bike Usage vs DailySnowDepth\")\n",
    "fig.set_ylabel(\"Trip Count\")\n",
    "fig.set_xlabel(\"Snow Depth\")\n",
    "# fig.set_ylim([0, 1200])\n",
    "# out = fig.get_figure()\n",
    "# out.savefig(\"snow_usage.png\")"
   ]
  },
  {
   "cell_type": "code",
   "execution_count": 38,
   "metadata": {},
   "outputs": [
    {
     "data": {
      "text/plain": [
       "count    2359.000000\n",
       "mean      162.465451\n",
       "std       555.956263\n",
       "min         5.000000\n",
       "25%        10.000000\n",
       "50%        14.000000\n",
       "75%        16.000000\n",
       "max      2237.000000\n",
       "Name: DailySustainedWindSpeed, dtype: float64"
      ]
     },
     "execution_count": 38,
     "metadata": {},
     "output_type": "execute_result"
    }
   ],
   "source": [
    "w[\"DailySustainedWindSpeed\"].describe()"
   ]
  },
  {
   "cell_type": "code",
   "execution_count": 39,
   "metadata": {},
   "outputs": [
    {
     "data": {
      "text/html": [
       "<div>\n",
       "<style scoped>\n",
       "    .dataframe tbody tr th:only-of-type {\n",
       "        vertical-align: middle;\n",
       "    }\n",
       "\n",
       "    .dataframe tbody tr th {\n",
       "        vertical-align: top;\n",
       "    }\n",
       "\n",
       "    .dataframe thead th {\n",
       "        text-align: right;\n",
       "    }\n",
       "</style>\n",
       "<table border=\"1\" class=\"dataframe\">\n",
       "  <thead>\n",
       "    <tr style=\"text-align: right;\">\n",
       "      <th></th>\n",
       "      <th>DATE</th>\n",
       "      <th>DailyAverageDryBulbTemperature</th>\n",
       "      <th>DailySnowDepth</th>\n",
       "      <th>DailySustainedWindSpeed</th>\n",
       "      <th>date</th>\n",
       "      <th>tripduration</th>\n",
       "      <th>daysFrom</th>\n",
       "    </tr>\n",
       "  </thead>\n",
       "  <tbody>\n",
       "    <tr>\n",
       "      <th>151</th>\n",
       "      <td>6/1/13 23:59</td>\n",
       "      <td>82.0</td>\n",
       "      <td>0.0</td>\n",
       "      <td>12.0</td>\n",
       "      <td>06-01-13</td>\n",
       "      <td>109.0</td>\n",
       "      <td>0</td>\n",
       "    </tr>\n",
       "    <tr>\n",
       "      <th>152</th>\n",
       "      <td>6/2/13 23:59</td>\n",
       "      <td>79.0</td>\n",
       "      <td>0.0</td>\n",
       "      <td>15.0</td>\n",
       "      <td>06-02-13</td>\n",
       "      <td>189.0</td>\n",
       "      <td>1</td>\n",
       "    </tr>\n",
       "    <tr>\n",
       "      <th>153</th>\n",
       "      <td>6/3/13 23:59</td>\n",
       "      <td>72.0</td>\n",
       "      <td>0.0</td>\n",
       "      <td>12.0</td>\n",
       "      <td>06-03-13</td>\n",
       "      <td>90.0</td>\n",
       "      <td>2</td>\n",
       "    </tr>\n",
       "    <tr>\n",
       "      <th>154</th>\n",
       "      <td>6/4/13 23:59</td>\n",
       "      <td>66.0</td>\n",
       "      <td>0.0</td>\n",
       "      <td>13.0</td>\n",
       "      <td>06-04-13</td>\n",
       "      <td>186.0</td>\n",
       "      <td>3</td>\n",
       "    </tr>\n",
       "    <tr>\n",
       "      <th>155</th>\n",
       "      <td>6/5/13 23:59</td>\n",
       "      <td>66.0</td>\n",
       "      <td>0.0</td>\n",
       "      <td>10.0</td>\n",
       "      <td>06-05-13</td>\n",
       "      <td>168.0</td>\n",
       "      <td>4</td>\n",
       "    </tr>\n",
       "  </tbody>\n",
       "</table>\n",
       "</div>"
      ],
      "text/plain": [
       "             DATE  DailyAverageDryBulbTemperature  DailySnowDepth  \\\n",
       "151  6/1/13 23:59                            82.0             0.0   \n",
       "152  6/2/13 23:59                            79.0             0.0   \n",
       "153  6/3/13 23:59                            72.0             0.0   \n",
       "154  6/4/13 23:59                            66.0             0.0   \n",
       "155  6/5/13 23:59                            66.0             0.0   \n",
       "\n",
       "     DailySustainedWindSpeed      date  tripduration  daysFrom  \n",
       "151                     12.0  06-01-13         109.0         0  \n",
       "152                     15.0  06-02-13         189.0         1  \n",
       "153                     12.0  06-03-13          90.0         2  \n",
       "154                     13.0  06-04-13         186.0         3  \n",
       "155                     10.0  06-05-13         168.0         4  "
      ]
     },
     "execution_count": 39,
     "metadata": {},
     "output_type": "execute_result"
    }
   ],
   "source": [
    "w.head()"
   ]
  },
  {
   "cell_type": "code",
   "execution_count": 42,
   "metadata": {},
   "outputs": [],
   "source": [
    "w.to_csv(\"aggregate_data.csv\", index=False)"
   ]
  },
  {
   "cell_type": "code",
   "execution_count": null,
   "metadata": {},
   "outputs": [],
   "source": []
  }
 ],
 "metadata": {
  "kernelspec": {
   "display_name": "Python 3",
   "language": "python",
   "name": "python3"
  },
  "language_info": {
   "codemirror_mode": {
    "name": "ipython",
    "version": 3
   },
   "file_extension": ".py",
   "mimetype": "text/x-python",
   "name": "python",
   "nbconvert_exporter": "python",
   "pygments_lexer": "ipython3",
   "version": "3.7.3"
  }
 },
 "nbformat": 4,
 "nbformat_minor": 4
}
