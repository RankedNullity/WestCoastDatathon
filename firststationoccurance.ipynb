{
  "nbformat": 4,
  "nbformat_minor": 0,
  "metadata": {
    "colab": {
      "name": "WestCoastDataOpen.ipynb",
      "provenance": [],
      "collapsed_sections": []
    },
    "kernelspec": {
      "name": "python3",
      "display_name": "Python 3"
    }
  },
  "cells": [
    {
      "cell_type": "code",
      "metadata": {
        "id": "Wrx3pn3FvJdw",
        "colab_type": "code",
        "colab": {}
      },
      "source": [
        "import pandas as pd"
      ],
      "execution_count": 0,
      "outputs": []
    },
    {
      "cell_type": "code",
      "metadata": {
        "id": "2xqABgBQwUYA",
        "colab_type": "code",
        "colab": {
          "base_uri": "https://localhost:8080/",
          "height": 34
        },
        "outputId": "1cb71ca7-5201-4eb4-822b-005818ecc96e"
      },
      "source": [
        "data = pd.read_csv(\"nyc_bikeshare.csv\")\n",
        "print(\"done\")"
      ],
      "execution_count": 2,
      "outputs": [
        {
          "output_type": "stream",
          "text": [
            "done\n"
          ],
          "name": "stdout"
        }
      ]
    },
    {
      "cell_type": "code",
      "metadata": {
        "id": "Cx7Ao1487NtG",
        "colab_type": "code",
        "colab": {}
      },
      "source": [
        ""
      ],
      "execution_count": 0,
      "outputs": []
    },
    {
      "cell_type": "code",
      "metadata": {
        "id": "t9E2vmFRwcdV",
        "colab_type": "code",
        "colab": {
          "base_uri": "https://localhost:8080/",
          "height": 255
        },
        "outputId": "5d018090-6219-4d37-ebb4-d0461277ff1f"
      },
      "source": [
        "print(data)"
      ],
      "execution_count": 3,
      "outputs": [
        {
          "output_type": "stream",
          "text": [
            "        tripduration          starttime  ... birthyear  gender\n",
            "0               2059  06-01-13 00:00:44  ...       NaN     0.0\n",
            "1               1521  06-01-13 00:01:22  ...    1983.0     1.0\n",
            "2               2028  06-01-13 00:01:47  ...       NaN     0.0\n",
            "3               1829  06-01-13 00:03:47  ...    1984.0     1.0\n",
            "4                899  06-01-13 00:09:25  ...    1967.0     1.0\n",
            "...              ...                ...  ...       ...     ...\n",
            "421951          1285  07-31-13 16:50:25  ...       NaN     0.0\n",
            "421952          1333  07-31-13 16:50:31  ...    1959.0     1.0\n",
            "421953          1539  07-31-13 16:50:33  ...       NaN     0.0\n",
            "421954          1304  07-31-13 16:50:34  ...    1971.0     1.0\n",
            "421955           458  07-31-13 16:50:36  ...      19.0     NaN\n",
            "\n",
            "[421956 rows x 9 columns]\n"
          ],
          "name": "stdout"
        }
      ]
    },
    {
      "cell_type": "code",
      "metadata": {
        "id": "hZZany8mxOQK",
        "colab_type": "code",
        "colab": {}
      },
      "source": [
        "key = pd.read_csv(\"nyc_bikeshare_key.csv\")"
      ],
      "execution_count": 0,
      "outputs": []
    },
    {
      "cell_type": "code",
      "metadata": {
        "id": "paQrm64xxUg-",
        "colab_type": "code",
        "colab": {}
      },
      "source": [
        "data1 = data.join(key.set_index(\"station_id\"), on=\"start_station_id\", rsuffix=\"_start\")\n",
        "data1 = data1.join(key.set_index(\"station_id\"), on=\"end_station_id\", rsuffix=\"_end\")"
      ],
      "execution_count": 0,
      "outputs": []
    },
    {
      "cell_type": "code",
      "metadata": {
        "id": "mW82F5xbxY10",
        "colab_type": "code",
        "colab": {
          "base_uri": "https://localhost:8080/",
          "height": 272
        },
        "outputId": "a8d67122-7f7e-48ff-e1ec-3349e2ead266"
      },
      "source": [
        "startGroup = data1.groupby([\"start_station_id\", \"station_latitude\", \"station_longitude\"]).count()\n",
        "endGroup = data1.groupby([\"end_station_id\"]).count()\n",
        "startGroup = startGroup.filter(items=[\"tripduration\"])\n",
        "endGroup = endGroup.filter(items=[\"starttime\"])\n",
        "startGroup = startGroup.join(endGroup, on=\"start_station_id\").rename(columns = {\"tripduration\": \"starts\", \"starttime\": \"ends\"})\n",
        "startGroup = startGroup.fillna(0)\n",
        "print(startGroup)"
      ],
      "execution_count": 7,
      "outputs": [
        {
          "output_type": "stream",
          "text": [
            "                                                     starts  ends\n",
            "start_station_id station_latitude station_longitude              \n",
            "72.0             40.767272        -73.993929           1609  1537\n",
            "79.0             40.719116        -74.006667           2548  2566\n",
            "82.0             40.711174        -74.000165            554   520\n",
            "83.0             40.683826        -73.976323            834  1008\n",
            "116.0            40.741776        -74.001497           1734  1629\n",
            "...                                                     ...   ...\n",
            "3002.0           40.711512        -74.015756            716   816\n",
            "3014.0           40.722852        -73.959114             57    56\n",
            "3017.0           40.751483        -73.996764            251   248\n",
            "3019.0           40.716633        -73.981933             99    98\n",
            "3020.0           40.646607        -74.015970             58    54\n",
            "\n",
            "[338 rows x 2 columns]\n"
          ],
          "name": "stdout"
        }
      ]
    },
    {
      "cell_type": "code",
      "metadata": {
        "id": "qz3WoKp3xs_5",
        "colab_type": "code",
        "colab": {}
      },
      "source": [
        "startGroup.to_csv(\"output/stationCountSmall.csv\", index=True)"
      ],
      "execution_count": 0,
      "outputs": []
    },
    {
      "cell_type": "code",
      "metadata": {
        "id": "g-zLJOFdycgp",
        "colab_type": "code",
        "colab": {
          "base_uri": "https://localhost:8080/",
          "height": 122
        },
        "outputId": "84c7d1e4-df4c-4384-8489-42cd9e7009dd"
      },
      "source": [
        "from google.colab import drive\n",
        "drive.mount('/content/drive')"
      ],
      "execution_count": 10,
      "outputs": [
        {
          "output_type": "stream",
          "text": [
            "Go to this URL in a browser: https://accounts.google.com/o/oauth2/auth?client_id=947318989803-6bn6qk8qdgf4n4g3pfee6491hc0brc4i.apps.googleusercontent.com&redirect_uri=urn%3aietf%3awg%3aoauth%3a2.0%3aoob&response_type=code&scope=email%20https%3a%2f%2fwww.googleapis.com%2fauth%2fdocs.test%20https%3a%2f%2fwww.googleapis.com%2fauth%2fdrive%20https%3a%2f%2fwww.googleapis.com%2fauth%2fdrive.photos.readonly%20https%3a%2f%2fwww.googleapis.com%2fauth%2fpeopleapi.readonly\n",
            "\n",
            "Enter your authorization code:\n",
            "··········\n",
            "Mounted at /content/drive\n"
          ],
          "name": "stdout"
        }
      ]
    },
    {
      "cell_type": "code",
      "metadata": {
        "id": "B_WYFfLaysM7",
        "colab_type": "code",
        "colab": {}
      },
      "source": [
        "startGroup.to_csv(\"/content/drive/My Drive/WestCoastDataOpen/stationCountSmall.csv\", index=True)"
      ],
      "execution_count": 0,
      "outputs": []
    },
    {
      "cell_type": "code",
      "metadata": {
        "id": "H-wNU4kp2hQh",
        "colab_type": "code",
        "colab": {
          "base_uri": "https://localhost:8080/",
          "height": 204
        },
        "outputId": "ccf12ab0-9ef3-42df-cdef-b9e9301737cc"
      },
      "source": [
        "# start_time -> year, month, date, time\n",
        "from collections import defaultdict\n",
        "\n",
        "times = defaultdict(list)\n",
        "for entry in data1[\"starttime\"]:\n",
        "    parts = entry.split(\" \")\n",
        "    date = parts[0].split(\"-\")\n",
        "    times[\"year\"].append(date[0])\n",
        "    times[\"month\"].append(date[1])\n",
        "    times[\"day\"].append(date[2])\n",
        "    times[\"time_of_day\"].append(parts[1][:2])\n",
        "times_df = pd.DataFrame(times)\n",
        "times_df.head()"
      ],
      "execution_count": 21,
      "outputs": [
        {
          "output_type": "execute_result",
          "data": {
            "text/html": [
              "<div>\n",
              "<style scoped>\n",
              "    .dataframe tbody tr th:only-of-type {\n",
              "        vertical-align: middle;\n",
              "    }\n",
              "\n",
              "    .dataframe tbody tr th {\n",
              "        vertical-align: top;\n",
              "    }\n",
              "\n",
              "    .dataframe thead th {\n",
              "        text-align: right;\n",
              "    }\n",
              "</style>\n",
              "<table border=\"1\" class=\"dataframe\">\n",
              "  <thead>\n",
              "    <tr style=\"text-align: right;\">\n",
              "      <th></th>\n",
              "      <th>year</th>\n",
              "      <th>month</th>\n",
              "      <th>day</th>\n",
              "      <th>time_of_day</th>\n",
              "    </tr>\n",
              "  </thead>\n",
              "  <tbody>\n",
              "    <tr>\n",
              "      <th>0</th>\n",
              "      <td>06</td>\n",
              "      <td>01</td>\n",
              "      <td>13</td>\n",
              "      <td>00</td>\n",
              "    </tr>\n",
              "    <tr>\n",
              "      <th>1</th>\n",
              "      <td>06</td>\n",
              "      <td>01</td>\n",
              "      <td>13</td>\n",
              "      <td>00</td>\n",
              "    </tr>\n",
              "    <tr>\n",
              "      <th>2</th>\n",
              "      <td>06</td>\n",
              "      <td>01</td>\n",
              "      <td>13</td>\n",
              "      <td>00</td>\n",
              "    </tr>\n",
              "    <tr>\n",
              "      <th>3</th>\n",
              "      <td>06</td>\n",
              "      <td>01</td>\n",
              "      <td>13</td>\n",
              "      <td>00</td>\n",
              "    </tr>\n",
              "    <tr>\n",
              "      <th>4</th>\n",
              "      <td>06</td>\n",
              "      <td>01</td>\n",
              "      <td>13</td>\n",
              "      <td>00</td>\n",
              "    </tr>\n",
              "  </tbody>\n",
              "</table>\n",
              "</div>"
            ],
            "text/plain": [
              "  year month day time_of_day\n",
              "0   06    01  13          00\n",
              "1   06    01  13          00\n",
              "2   06    01  13          00\n",
              "3   06    01  13          00\n",
              "4   06    01  13          00"
            ]
          },
          "metadata": {
            "tags": []
          },
          "execution_count": 21
        }
      ]
    },
    {
      "cell_type": "code",
      "metadata": {
        "id": "AkjnRnl12_eB",
        "colab_type": "code",
        "colab": {
          "base_uri": "https://localhost:8080/",
          "height": 361
        },
        "outputId": "a9c1be5d-5489-4deb-eac3-d86962e6358c"
      },
      "source": [
        "data1 = data1.reset_index()\n",
        "data1 = data1.join(times_df)"
      ],
      "execution_count": 23,
      "outputs": [
        {
          "output_type": "error",
          "ename": "ValueError",
          "evalue": "ignored",
          "traceback": [
            "\u001b[0;31m---------------------------------------------------------------------------\u001b[0m",
            "\u001b[0;31mValueError\u001b[0m                                Traceback (most recent call last)",
            "\u001b[0;32m<ipython-input-23-feaccf4d817d>\u001b[0m in \u001b[0;36m<module>\u001b[0;34m()\u001b[0m\n\u001b[1;32m      1\u001b[0m \u001b[0mdata1\u001b[0m \u001b[0;34m=\u001b[0m \u001b[0mdata1\u001b[0m\u001b[0;34m.\u001b[0m\u001b[0mreset_index\u001b[0m\u001b[0;34m(\u001b[0m\u001b[0;34m)\u001b[0m\u001b[0;34m\u001b[0m\u001b[0;34m\u001b[0m\u001b[0m\n\u001b[0;32m----> 2\u001b[0;31m \u001b[0mdata1\u001b[0m \u001b[0;34m=\u001b[0m \u001b[0mdata1\u001b[0m\u001b[0;34m.\u001b[0m\u001b[0mjoin\u001b[0m\u001b[0;34m(\u001b[0m\u001b[0mtimes_df\u001b[0m\u001b[0;34m)\u001b[0m\u001b[0;34m\u001b[0m\u001b[0;34m\u001b[0m\u001b[0m\n\u001b[0m\u001b[1;32m      3\u001b[0m \u001b[0mdata1\u001b[0m\u001b[0;34m\u001b[0m\u001b[0;34m\u001b[0m\u001b[0m\n",
            "\u001b[0;32m/usr/local/lib/python3.6/dist-packages/pandas/core/frame.py\u001b[0m in \u001b[0;36mjoin\u001b[0;34m(self, other, on, how, lsuffix, rsuffix, sort)\u001b[0m\n\u001b[1;32m   7259\u001b[0m         \u001b[0;31m# For SparseDataFrame's benefit\u001b[0m\u001b[0;34m\u001b[0m\u001b[0;34m\u001b[0m\u001b[0;34m\u001b[0m\u001b[0m\n\u001b[1;32m   7260\u001b[0m         return self._join_compat(\n\u001b[0;32m-> 7261\u001b[0;31m             \u001b[0mother\u001b[0m\u001b[0;34m,\u001b[0m \u001b[0mon\u001b[0m\u001b[0;34m=\u001b[0m\u001b[0mon\u001b[0m\u001b[0;34m,\u001b[0m \u001b[0mhow\u001b[0m\u001b[0;34m=\u001b[0m\u001b[0mhow\u001b[0m\u001b[0;34m,\u001b[0m \u001b[0mlsuffix\u001b[0m\u001b[0;34m=\u001b[0m\u001b[0mlsuffix\u001b[0m\u001b[0;34m,\u001b[0m \u001b[0mrsuffix\u001b[0m\u001b[0;34m=\u001b[0m\u001b[0mrsuffix\u001b[0m\u001b[0;34m,\u001b[0m \u001b[0msort\u001b[0m\u001b[0;34m=\u001b[0m\u001b[0msort\u001b[0m\u001b[0;34m\u001b[0m\u001b[0;34m\u001b[0m\u001b[0m\n\u001b[0m\u001b[1;32m   7262\u001b[0m         )\n\u001b[1;32m   7263\u001b[0m \u001b[0;34m\u001b[0m\u001b[0m\n",
            "\u001b[0;32m/usr/local/lib/python3.6/dist-packages/pandas/core/frame.py\u001b[0m in \u001b[0;36m_join_compat\u001b[0;34m(self, other, on, how, lsuffix, rsuffix, sort)\u001b[0m\n\u001b[1;32m   7282\u001b[0m                 \u001b[0mright_index\u001b[0m\u001b[0;34m=\u001b[0m\u001b[0;32mTrue\u001b[0m\u001b[0;34m,\u001b[0m\u001b[0;34m\u001b[0m\u001b[0;34m\u001b[0m\u001b[0m\n\u001b[1;32m   7283\u001b[0m                 \u001b[0msuffixes\u001b[0m\u001b[0;34m=\u001b[0m\u001b[0;34m(\u001b[0m\u001b[0mlsuffix\u001b[0m\u001b[0;34m,\u001b[0m \u001b[0mrsuffix\u001b[0m\u001b[0;34m)\u001b[0m\u001b[0;34m,\u001b[0m\u001b[0;34m\u001b[0m\u001b[0;34m\u001b[0m\u001b[0m\n\u001b[0;32m-> 7284\u001b[0;31m                 \u001b[0msort\u001b[0m\u001b[0;34m=\u001b[0m\u001b[0msort\u001b[0m\u001b[0;34m,\u001b[0m\u001b[0;34m\u001b[0m\u001b[0;34m\u001b[0m\u001b[0m\n\u001b[0m\u001b[1;32m   7285\u001b[0m             )\n\u001b[1;32m   7286\u001b[0m         \u001b[0;32melse\u001b[0m\u001b[0;34m:\u001b[0m\u001b[0;34m\u001b[0m\u001b[0;34m\u001b[0m\u001b[0m\n",
            "\u001b[0;32m/usr/local/lib/python3.6/dist-packages/pandas/core/reshape/merge.py\u001b[0m in \u001b[0;36mmerge\u001b[0;34m(left, right, how, on, left_on, right_on, left_index, right_index, sort, suffixes, copy, indicator, validate)\u001b[0m\n\u001b[1;32m     81\u001b[0m         \u001b[0mvalidate\u001b[0m\u001b[0;34m=\u001b[0m\u001b[0mvalidate\u001b[0m\u001b[0;34m,\u001b[0m\u001b[0;34m\u001b[0m\u001b[0;34m\u001b[0m\u001b[0m\n\u001b[1;32m     82\u001b[0m     )\n\u001b[0;32m---> 83\u001b[0;31m     \u001b[0;32mreturn\u001b[0m \u001b[0mop\u001b[0m\u001b[0;34m.\u001b[0m\u001b[0mget_result\u001b[0m\u001b[0;34m(\u001b[0m\u001b[0;34m)\u001b[0m\u001b[0;34m\u001b[0m\u001b[0;34m\u001b[0m\u001b[0m\n\u001b[0m\u001b[1;32m     84\u001b[0m \u001b[0;34m\u001b[0m\u001b[0m\n\u001b[1;32m     85\u001b[0m \u001b[0;34m\u001b[0m\u001b[0m\n",
            "\u001b[0;32m/usr/local/lib/python3.6/dist-packages/pandas/core/reshape/merge.py\u001b[0m in \u001b[0;36mget_result\u001b[0;34m(self)\u001b[0m\n\u001b[1;32m    646\u001b[0m \u001b[0;34m\u001b[0m\u001b[0m\n\u001b[1;32m    647\u001b[0m         llabels, rlabels = _items_overlap_with_suffix(\n\u001b[0;32m--> 648\u001b[0;31m             \u001b[0mldata\u001b[0m\u001b[0;34m.\u001b[0m\u001b[0mitems\u001b[0m\u001b[0;34m,\u001b[0m \u001b[0mlsuf\u001b[0m\u001b[0;34m,\u001b[0m \u001b[0mrdata\u001b[0m\u001b[0;34m.\u001b[0m\u001b[0mitems\u001b[0m\u001b[0;34m,\u001b[0m \u001b[0mrsuf\u001b[0m\u001b[0;34m\u001b[0m\u001b[0;34m\u001b[0m\u001b[0m\n\u001b[0m\u001b[1;32m    649\u001b[0m         )\n\u001b[1;32m    650\u001b[0m \u001b[0;34m\u001b[0m\u001b[0m\n",
            "\u001b[0;32m/usr/local/lib/python3.6/dist-packages/pandas/core/reshape/merge.py\u001b[0m in \u001b[0;36m_items_overlap_with_suffix\u001b[0;34m(left, lsuffix, right, rsuffix)\u001b[0m\n\u001b[1;32m   2009\u001b[0m         raise ValueError(\n\u001b[1;32m   2010\u001b[0m             \u001b[0;34m\"columns overlap but no suffix specified: \"\u001b[0m\u001b[0;34m\u001b[0m\u001b[0;34m\u001b[0m\u001b[0m\n\u001b[0;32m-> 2011\u001b[0;31m             \u001b[0;34m\"{rename}\"\u001b[0m\u001b[0;34m.\u001b[0m\u001b[0mformat\u001b[0m\u001b[0;34m(\u001b[0m\u001b[0mrename\u001b[0m\u001b[0;34m=\u001b[0m\u001b[0mto_rename\u001b[0m\u001b[0;34m)\u001b[0m\u001b[0;34m\u001b[0m\u001b[0;34m\u001b[0m\u001b[0m\n\u001b[0m\u001b[1;32m   2012\u001b[0m         )\n\u001b[1;32m   2013\u001b[0m \u001b[0;34m\u001b[0m\u001b[0m\n",
            "\u001b[0;31mValueError\u001b[0m: columns overlap but no suffix specified: Index(['year', 'month', 'day', 'time_of_day'], dtype='object')"
          ]
        }
      ]
    },
    {
      "cell_type": "code",
      "metadata": {
        "id": "i-6XLPil3Rfg",
        "colab_type": "code",
        "colab": {
          "base_uri": "https://localhost:8080/",
          "height": 450
        },
        "outputId": "9fd331b9-84b2-4e96-aa54-0ea28fd7d326"
      },
      "source": [
        "firstStationUse = data1\n",
        "firstStationUse = firstStationUse.groupby([\"start_station_id\"])[\"starttime\"].first()\n",
        "firstStationUse = pd.DataFrame(firstStationUse)\n",
        "firstStationUse"
      ],
      "execution_count": 37,
      "outputs": [
        {
          "output_type": "execute_result",
          "data": {
            "text/html": [
              "<div>\n",
              "<style scoped>\n",
              "    .dataframe tbody tr th:only-of-type {\n",
              "        vertical-align: middle;\n",
              "    }\n",
              "\n",
              "    .dataframe tbody tr th {\n",
              "        vertical-align: top;\n",
              "    }\n",
              "\n",
              "    .dataframe thead th {\n",
              "        text-align: right;\n",
              "    }\n",
              "</style>\n",
              "<table border=\"1\" class=\"dataframe\">\n",
              "  <thead>\n",
              "    <tr style=\"text-align: right;\">\n",
              "      <th></th>\n",
              "      <th>starttime</th>\n",
              "    </tr>\n",
              "    <tr>\n",
              "      <th>start_station_id</th>\n",
              "      <th></th>\n",
              "    </tr>\n",
              "  </thead>\n",
              "  <tbody>\n",
              "    <tr>\n",
              "      <th>72.0</th>\n",
              "      <td>06-01-13 08:14:11</td>\n",
              "    </tr>\n",
              "    <tr>\n",
              "      <th>79.0</th>\n",
              "      <td>06-01-13 07:29:36</td>\n",
              "    </tr>\n",
              "    <tr>\n",
              "      <th>82.0</th>\n",
              "      <td>06-01-13 01:21:54</td>\n",
              "    </tr>\n",
              "    <tr>\n",
              "      <th>83.0</th>\n",
              "      <td>06-01-13 13:00:16</td>\n",
              "    </tr>\n",
              "    <tr>\n",
              "      <th>116.0</th>\n",
              "      <td>06-01-13 01:57:32</td>\n",
              "    </tr>\n",
              "    <tr>\n",
              "      <th>...</th>\n",
              "      <td>...</td>\n",
              "    </tr>\n",
              "    <tr>\n",
              "      <th>3002.0</th>\n",
              "      <td>06-01-13 12:45:51</td>\n",
              "    </tr>\n",
              "    <tr>\n",
              "      <th>3014.0</th>\n",
              "      <td>06-01-13 18:36:36</td>\n",
              "    </tr>\n",
              "    <tr>\n",
              "      <th>3017.0</th>\n",
              "      <td>06-01-13 15:45:07</td>\n",
              "    </tr>\n",
              "    <tr>\n",
              "      <th>3019.0</th>\n",
              "      <td>06-01-13 00:19:54</td>\n",
              "    </tr>\n",
              "    <tr>\n",
              "      <th>3020.0</th>\n",
              "      <td>06-02-13 11:59:12</td>\n",
              "    </tr>\n",
              "  </tbody>\n",
              "</table>\n",
              "<p>338 rows × 1 columns</p>\n",
              "</div>"
            ],
            "text/plain": [
              "                          starttime\n",
              "start_station_id                   \n",
              "72.0              06-01-13 08:14:11\n",
              "79.0              06-01-13 07:29:36\n",
              "82.0              06-01-13 01:21:54\n",
              "83.0              06-01-13 13:00:16\n",
              "116.0             06-01-13 01:57:32\n",
              "...                             ...\n",
              "3002.0            06-01-13 12:45:51\n",
              "3014.0            06-01-13 18:36:36\n",
              "3017.0            06-01-13 15:45:07\n",
              "3019.0            06-01-13 00:19:54\n",
              "3020.0            06-02-13 11:59:12\n",
              "\n",
              "[338 rows x 1 columns]"
            ]
          },
          "metadata": {
            "tags": []
          },
          "execution_count": 37
        }
      ]
    },
    {
      "cell_type": "code",
      "metadata": {
        "id": "_BOm1MHO7ZVH",
        "colab_type": "code",
        "colab": {
          "base_uri": "https://localhost:8080/",
          "height": 34
        },
        "outputId": "b5fb880c-b0f0-405e-9cbc-8f08da388d93"
      },
      "source": [
        "from datetime import datetime\n",
        "def date_to_days(date):\n",
        "  return date.split(\" \")[0]\n",
        "def daysFrom(date):\n",
        "  startDate = datetime.strptime('6/1/2013', \"%m/%d/%Y\")\n",
        "  endDate = datetime.strptime(date, \"%m-%d-%y\")\n",
        "  return (endDate-startDate).days"
      ],
      "execution_count": 40,
      "outputs": [
        {
          "output_type": "stream",
          "text": [
            "2\n"
          ],
          "name": "stdout"
        }
      ]
    },
    {
      "cell_type": "code",
      "metadata": {
        "id": "tRZLQf3F8xcF",
        "colab_type": "code",
        "colab": {
          "base_uri": "https://localhost:8080/",
          "height": 450
        },
        "outputId": "d6f3aae3-b6a1-4df0-b281-02f294e9e131"
      },
      "source": [
        "firstStationUse[\"starttime\"] = firstStationUse[\"starttime\"].apply(date_to_days)\n",
        "firstStationUse"
      ],
      "execution_count": 42,
      "outputs": [
        {
          "output_type": "execute_result",
          "data": {
            "text/html": [
              "<div>\n",
              "<style scoped>\n",
              "    .dataframe tbody tr th:only-of-type {\n",
              "        vertical-align: middle;\n",
              "    }\n",
              "\n",
              "    .dataframe tbody tr th {\n",
              "        vertical-align: top;\n",
              "    }\n",
              "\n",
              "    .dataframe thead th {\n",
              "        text-align: right;\n",
              "    }\n",
              "</style>\n",
              "<table border=\"1\" class=\"dataframe\">\n",
              "  <thead>\n",
              "    <tr style=\"text-align: right;\">\n",
              "      <th></th>\n",
              "      <th>starttime</th>\n",
              "    </tr>\n",
              "    <tr>\n",
              "      <th>start_station_id</th>\n",
              "      <th></th>\n",
              "    </tr>\n",
              "  </thead>\n",
              "  <tbody>\n",
              "    <tr>\n",
              "      <th>72.0</th>\n",
              "      <td>06-01-13</td>\n",
              "    </tr>\n",
              "    <tr>\n",
              "      <th>79.0</th>\n",
              "      <td>06-01-13</td>\n",
              "    </tr>\n",
              "    <tr>\n",
              "      <th>82.0</th>\n",
              "      <td>06-01-13</td>\n",
              "    </tr>\n",
              "    <tr>\n",
              "      <th>83.0</th>\n",
              "      <td>06-01-13</td>\n",
              "    </tr>\n",
              "    <tr>\n",
              "      <th>116.0</th>\n",
              "      <td>06-01-13</td>\n",
              "    </tr>\n",
              "    <tr>\n",
              "      <th>...</th>\n",
              "      <td>...</td>\n",
              "    </tr>\n",
              "    <tr>\n",
              "      <th>3002.0</th>\n",
              "      <td>06-01-13</td>\n",
              "    </tr>\n",
              "    <tr>\n",
              "      <th>3014.0</th>\n",
              "      <td>06-01-13</td>\n",
              "    </tr>\n",
              "    <tr>\n",
              "      <th>3017.0</th>\n",
              "      <td>06-01-13</td>\n",
              "    </tr>\n",
              "    <tr>\n",
              "      <th>3019.0</th>\n",
              "      <td>06-01-13</td>\n",
              "    </tr>\n",
              "    <tr>\n",
              "      <th>3020.0</th>\n",
              "      <td>06-02-13</td>\n",
              "    </tr>\n",
              "  </tbody>\n",
              "</table>\n",
              "<p>338 rows × 1 columns</p>\n",
              "</div>"
            ],
            "text/plain": [
              "                 starttime\n",
              "start_station_id          \n",
              "72.0              06-01-13\n",
              "79.0              06-01-13\n",
              "82.0              06-01-13\n",
              "83.0              06-01-13\n",
              "116.0             06-01-13\n",
              "...                    ...\n",
              "3002.0            06-01-13\n",
              "3014.0            06-01-13\n",
              "3017.0            06-01-13\n",
              "3019.0            06-01-13\n",
              "3020.0            06-02-13\n",
              "\n",
              "[338 rows x 1 columns]"
            ]
          },
          "metadata": {
            "tags": []
          },
          "execution_count": 42
        }
      ]
    },
    {
      "cell_type": "code",
      "metadata": {
        "id": "BlJUNoup-zSV",
        "colab_type": "code",
        "colab": {
          "base_uri": "https://localhost:8080/",
          "height": 450
        },
        "outputId": "f8f96815-77af-4395-bf8c-8771531c875b"
      },
      "source": [
        "firstStationUse[\"daysSinceStart\"] = firstStationUse[\"starttime\"].apply(daysFrom)\n",
        "firstStationUse"
      ],
      "execution_count": 43,
      "outputs": [
        {
          "output_type": "execute_result",
          "data": {
            "text/html": [
              "<div>\n",
              "<style scoped>\n",
              "    .dataframe tbody tr th:only-of-type {\n",
              "        vertical-align: middle;\n",
              "    }\n",
              "\n",
              "    .dataframe tbody tr th {\n",
              "        vertical-align: top;\n",
              "    }\n",
              "\n",
              "    .dataframe thead th {\n",
              "        text-align: right;\n",
              "    }\n",
              "</style>\n",
              "<table border=\"1\" class=\"dataframe\">\n",
              "  <thead>\n",
              "    <tr style=\"text-align: right;\">\n",
              "      <th></th>\n",
              "      <th>starttime</th>\n",
              "      <th>daysSinceStart</th>\n",
              "    </tr>\n",
              "    <tr>\n",
              "      <th>start_station_id</th>\n",
              "      <th></th>\n",
              "      <th></th>\n",
              "    </tr>\n",
              "  </thead>\n",
              "  <tbody>\n",
              "    <tr>\n",
              "      <th>72.0</th>\n",
              "      <td>06-01-13</td>\n",
              "      <td>0</td>\n",
              "    </tr>\n",
              "    <tr>\n",
              "      <th>79.0</th>\n",
              "      <td>06-01-13</td>\n",
              "      <td>0</td>\n",
              "    </tr>\n",
              "    <tr>\n",
              "      <th>82.0</th>\n",
              "      <td>06-01-13</td>\n",
              "      <td>0</td>\n",
              "    </tr>\n",
              "    <tr>\n",
              "      <th>83.0</th>\n",
              "      <td>06-01-13</td>\n",
              "      <td>0</td>\n",
              "    </tr>\n",
              "    <tr>\n",
              "      <th>116.0</th>\n",
              "      <td>06-01-13</td>\n",
              "      <td>0</td>\n",
              "    </tr>\n",
              "    <tr>\n",
              "      <th>...</th>\n",
              "      <td>...</td>\n",
              "      <td>...</td>\n",
              "    </tr>\n",
              "    <tr>\n",
              "      <th>3002.0</th>\n",
              "      <td>06-01-13</td>\n",
              "      <td>0</td>\n",
              "    </tr>\n",
              "    <tr>\n",
              "      <th>3014.0</th>\n",
              "      <td>06-01-13</td>\n",
              "      <td>0</td>\n",
              "    </tr>\n",
              "    <tr>\n",
              "      <th>3017.0</th>\n",
              "      <td>06-01-13</td>\n",
              "      <td>0</td>\n",
              "    </tr>\n",
              "    <tr>\n",
              "      <th>3019.0</th>\n",
              "      <td>06-01-13</td>\n",
              "      <td>0</td>\n",
              "    </tr>\n",
              "    <tr>\n",
              "      <th>3020.0</th>\n",
              "      <td>06-02-13</td>\n",
              "      <td>1</td>\n",
              "    </tr>\n",
              "  </tbody>\n",
              "</table>\n",
              "<p>338 rows × 2 columns</p>\n",
              "</div>"
            ],
            "text/plain": [
              "                 starttime  daysSinceStart\n",
              "start_station_id                          \n",
              "72.0              06-01-13               0\n",
              "79.0              06-01-13               0\n",
              "82.0              06-01-13               0\n",
              "83.0              06-01-13               0\n",
              "116.0             06-01-13               0\n",
              "...                    ...             ...\n",
              "3002.0            06-01-13               0\n",
              "3014.0            06-01-13               0\n",
              "3017.0            06-01-13               0\n",
              "3019.0            06-01-13               0\n",
              "3020.0            06-02-13               1\n",
              "\n",
              "[338 rows x 2 columns]"
            ]
          },
          "metadata": {
            "tags": []
          },
          "execution_count": 43
        }
      ]
    }
  ]
}